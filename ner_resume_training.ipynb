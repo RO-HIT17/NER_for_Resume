{
 "cells": [
  {
   "cell_type": "code",
   "execution_count": 55,
   "metadata": {},
   "outputs": [
    {
     "name": "stdout",
     "output_type": "stream",
     "text": [
      "Collecting en-core-web-lg==3.8.0\n",
      "  Downloading https://github.com/explosion/spacy-models/releases/download/en_core_web_lg-3.8.0/en_core_web_lg-3.8.0-py3-none-any.whl (400.7 MB)\n",
      "     ---------------------------------------- 0.0/400.7 MB ? eta -:--:--\n",
      "     ---------------------------------------- 1.8/400.7 MB 9.1 MB/s eta 0:00:44\n",
      "     --------------------------------------- 4.2/400.7 MB 10.5 MB/s eta 0:00:38\n",
      "      --------------------------------------- 6.0/400.7 MB 9.7 MB/s eta 0:00:41\n",
      "      -------------------------------------- 8.4/400.7 MB 10.0 MB/s eta 0:00:40\n",
      "     - ------------------------------------ 10.7/400.7 MB 10.3 MB/s eta 0:00:38\n",
      "     - ------------------------------------ 13.6/400.7 MB 10.8 MB/s eta 0:00:36\n",
      "     - ------------------------------------ 16.0/400.7 MB 10.9 MB/s eta 0:00:36\n",
      "     - ------------------------------------ 18.4/400.7 MB 10.9 MB/s eta 0:00:36\n",
      "     - ------------------------------------ 21.0/400.7 MB 11.0 MB/s eta 0:00:35\n",
      "     -- ----------------------------------- 23.3/400.7 MB 11.1 MB/s eta 0:00:35\n",
      "     -- ----------------------------------- 26.0/400.7 MB 11.2 MB/s eta 0:00:34\n",
      "     -- ----------------------------------- 28.6/400.7 MB 11.3 MB/s eta 0:00:34\n",
      "     -- ----------------------------------- 31.2/400.7 MB 11.3 MB/s eta 0:00:33\n",
      "     --- ---------------------------------- 33.6/400.7 MB 11.3 MB/s eta 0:00:33\n",
      "     --- ---------------------------------- 36.2/400.7 MB 11.4 MB/s eta 0:00:33\n",
      "     --- ---------------------------------- 38.8/400.7 MB 11.4 MB/s eta 0:00:32\n",
      "     --- ---------------------------------- 41.2/400.7 MB 11.4 MB/s eta 0:00:32\n",
      "     ---- --------------------------------- 43.8/400.7 MB 11.5 MB/s eta 0:00:32\n",
      "     ---- --------------------------------- 46.4/400.7 MB 11.5 MB/s eta 0:00:31\n",
      "     ---- --------------------------------- 48.8/400.7 MB 11.5 MB/s eta 0:00:31\n",
      "     ---- --------------------------------- 50.9/400.7 MB 11.4 MB/s eta 0:00:31\n",
      "     ----- -------------------------------- 53.2/400.7 MB 11.4 MB/s eta 0:00:31\n",
      "     ----- -------------------------------- 55.6/400.7 MB 11.4 MB/s eta 0:00:31\n",
      "     ----- -------------------------------- 58.2/400.7 MB 11.4 MB/s eta 0:00:31\n",
      "     ----- -------------------------------- 60.8/400.7 MB 11.4 MB/s eta 0:00:30\n",
      "     ----- -------------------------------- 63.2/400.7 MB 11.4 MB/s eta 0:00:30\n",
      "     ------ ------------------------------- 65.8/400.7 MB 11.4 MB/s eta 0:00:30\n",
      "     ------ ------------------------------- 68.2/400.7 MB 11.4 MB/s eta 0:00:30\n",
      "     ------ ------------------------------- 70.8/400.7 MB 11.5 MB/s eta 0:00:29\n",
      "     ------ ------------------------------- 73.4/400.7 MB 11.5 MB/s eta 0:00:29\n",
      "     ------- ------------------------------ 75.8/400.7 MB 11.5 MB/s eta 0:00:29\n",
      "     ------- ------------------------------ 78.4/400.7 MB 11.5 MB/s eta 0:00:29\n",
      "     ------- ------------------------------ 81.0/400.7 MB 11.5 MB/s eta 0:00:28\n",
      "     ------- ------------------------------ 83.6/400.7 MB 11.5 MB/s eta 0:00:28\n",
      "     -------- ----------------------------- 86.2/400.7 MB 11.5 MB/s eta 0:00:28\n",
      "     -------- ----------------------------- 88.6/400.7 MB 11.5 MB/s eta 0:00:28\n",
      "     -------- ----------------------------- 91.2/400.7 MB 11.6 MB/s eta 0:00:27\n",
      "     -------- ----------------------------- 93.8/400.7 MB 11.6 MB/s eta 0:00:27\n",
      "     --------- ---------------------------- 96.5/400.7 MB 11.6 MB/s eta 0:00:27\n",
      "     --------- ---------------------------- 99.1/400.7 MB 11.6 MB/s eta 0:00:26\n",
      "     --------- --------------------------- 101.7/400.7 MB 11.6 MB/s eta 0:00:26\n",
      "     --------- --------------------------- 104.3/400.7 MB 11.6 MB/s eta 0:00:26\n",
      "     --------- --------------------------- 107.0/400.7 MB 11.6 MB/s eta 0:00:26\n",
      "     ---------- -------------------------- 109.6/400.7 MB 11.7 MB/s eta 0:00:25\n",
      "     ---------- -------------------------- 111.9/400.7 MB 11.6 MB/s eta 0:00:25\n",
      "     ---------- -------------------------- 114.3/400.7 MB 11.6 MB/s eta 0:00:25\n",
      "     ---------- -------------------------- 116.9/400.7 MB 11.6 MB/s eta 0:00:25\n",
      "     ----------- ------------------------- 119.5/400.7 MB 11.7 MB/s eta 0:00:25\n",
      "     ----------- ------------------------- 122.2/400.7 MB 11.7 MB/s eta 0:00:24\n",
      "     ----------- ------------------------- 124.8/400.7 MB 11.7 MB/s eta 0:00:24\n",
      "     ----------- ------------------------- 127.4/400.7 MB 11.7 MB/s eta 0:00:24\n",
      "     ------------ ------------------------ 130.0/400.7 MB 11.7 MB/s eta 0:00:24\n",
      "     ------------ ------------------------ 132.6/400.7 MB 11.7 MB/s eta 0:00:23\n",
      "     ------------ ------------------------ 135.3/400.7 MB 11.7 MB/s eta 0:00:23\n",
      "     ------------ ------------------------ 137.6/400.7 MB 11.7 MB/s eta 0:00:23\n",
      "     ------------ ------------------------ 140.2/400.7 MB 11.7 MB/s eta 0:00:23\n",
      "     ------------- ----------------------- 142.9/400.7 MB 11.7 MB/s eta 0:00:22\n",
      "     ------------- ----------------------- 145.5/400.7 MB 11.7 MB/s eta 0:00:22\n",
      "     ------------- ----------------------- 147.8/400.7 MB 11.7 MB/s eta 0:00:22\n",
      "     ------------- ----------------------- 150.2/400.7 MB 11.7 MB/s eta 0:00:22\n",
      "     -------------- ---------------------- 152.8/400.7 MB 11.7 MB/s eta 0:00:22\n",
      "     -------------- ---------------------- 155.5/400.7 MB 11.7 MB/s eta 0:00:21\n",
      "     -------------- ---------------------- 157.5/400.7 MB 11.7 MB/s eta 0:00:21\n",
      "     -------------- ---------------------- 159.1/400.7 MB 11.6 MB/s eta 0:00:21\n",
      "     -------------- ---------------------- 161.5/400.7 MB 11.6 MB/s eta 0:00:21\n",
      "     --------------- --------------------- 163.1/400.7 MB 11.6 MB/s eta 0:00:21\n",
      "     --------------- --------------------- 165.4/400.7 MB 11.6 MB/s eta 0:00:21\n",
      "     --------------- --------------------- 167.5/400.7 MB 11.5 MB/s eta 0:00:21\n",
      "     --------------- --------------------- 169.9/400.7 MB 11.5 MB/s eta 0:00:20\n",
      "     --------------- --------------------- 171.4/400.7 MB 11.5 MB/s eta 0:00:20\n",
      "     ---------------- -------------------- 173.8/400.7 MB 11.5 MB/s eta 0:00:20\n",
      "     ---------------- -------------------- 176.4/400.7 MB 11.5 MB/s eta 0:00:20\n",
      "     ---------------- -------------------- 179.0/400.7 MB 11.5 MB/s eta 0:00:20\n",
      "     ---------------- -------------------- 181.7/400.7 MB 11.5 MB/s eta 0:00:20\n",
      "     ----------------- ------------------- 184.3/400.7 MB 11.5 MB/s eta 0:00:19\n",
      "     ----------------- ------------------- 186.9/400.7 MB 11.5 MB/s eta 0:00:19\n",
      "     ----------------- ------------------- 189.5/400.7 MB 11.5 MB/s eta 0:00:19\n",
      "     ----------------- ------------------- 192.2/400.7 MB 11.5 MB/s eta 0:00:19\n",
      "     ----------------- ------------------- 194.8/400.7 MB 11.5 MB/s eta 0:00:18\n",
      "     ------------------ ------------------ 197.4/400.7 MB 11.6 MB/s eta 0:00:18\n",
      "     ------------------ ------------------ 200.3/400.7 MB 11.6 MB/s eta 0:00:18\n",
      "     ------------------ ------------------ 202.6/400.7 MB 11.6 MB/s eta 0:00:18\n",
      "     ------------------ ------------------ 205.3/400.7 MB 11.6 MB/s eta 0:00:17\n",
      "     ------------------- ----------------- 207.9/400.7 MB 11.6 MB/s eta 0:00:17\n",
      "     ------------------- ----------------- 210.5/400.7 MB 11.6 MB/s eta 0:00:17\n",
      "     ------------------- ----------------- 213.1/400.7 MB 11.6 MB/s eta 0:00:17\n",
      "     ------------------- ----------------- 215.7/400.7 MB 11.6 MB/s eta 0:00:16\n",
      "     -------------------- ---------------- 218.4/400.7 MB 11.6 MB/s eta 0:00:16\n",
      "     -------------------- ---------------- 221.0/400.7 MB 11.6 MB/s eta 0:00:16\n",
      "     -------------------- ---------------- 223.6/400.7 MB 11.6 MB/s eta 0:00:16\n",
      "     -------------------- ---------------- 226.2/400.7 MB 11.6 MB/s eta 0:00:15\n",
      "     --------------------- --------------- 228.9/400.7 MB 11.6 MB/s eta 0:00:15\n",
      "     --------------------- --------------- 231.5/400.7 MB 11.6 MB/s eta 0:00:15\n",
      "     --------------------- --------------- 234.1/400.7 MB 11.7 MB/s eta 0:00:15\n",
      "     --------------------- --------------- 237.0/400.7 MB 11.7 MB/s eta 0:00:15\n",
      "     ---------------------- -------------- 239.6/400.7 MB 11.7 MB/s eta 0:00:14\n",
      "     ---------------------- -------------- 242.2/400.7 MB 11.7 MB/s eta 0:00:14\n",
      "     ---------------------- -------------- 244.8/400.7 MB 11.7 MB/s eta 0:00:14\n",
      "     ---------------------- -------------- 247.2/400.7 MB 11.7 MB/s eta 0:00:14\n",
      "     ----------------------- ------------- 249.8/400.7 MB 11.7 MB/s eta 0:00:13\n",
      "     ----------------------- ------------- 252.4/400.7 MB 11.7 MB/s eta 0:00:13\n",
      "     ----------------------- ------------- 255.1/400.7 MB 11.7 MB/s eta 0:00:13\n",
      "     ----------------------- ------------- 257.7/400.7 MB 11.7 MB/s eta 0:00:13\n",
      "     ------------------------ ------------ 260.3/400.7 MB 11.7 MB/s eta 0:00:12\n",
      "     ------------------------ ------------ 262.9/400.7 MB 11.7 MB/s eta 0:00:12\n",
      "     ------------------------ ------------ 265.8/400.7 MB 11.7 MB/s eta 0:00:12\n",
      "     ------------------------ ------------ 268.4/400.7 MB 11.8 MB/s eta 0:00:12\n",
      "     ------------------------- ----------- 271.1/400.7 MB 11.8 MB/s eta 0:00:11\n",
      "     ------------------------- ----------- 273.4/400.7 MB 11.8 MB/s eta 0:00:11\n",
      "     ------------------------- ----------- 275.8/400.7 MB 11.8 MB/s eta 0:00:11\n",
      "     ------------------------- ----------- 278.4/400.7 MB 11.8 MB/s eta 0:00:11\n",
      "     ------------------------- ----------- 281.0/400.7 MB 11.8 MB/s eta 0:00:11\n",
      "     -------------------------- ---------- 283.6/400.7 MB 11.8 MB/s eta 0:00:10\n",
      "     -------------------------- ---------- 286.3/400.7 MB 11.8 MB/s eta 0:00:10\n",
      "     -------------------------- ---------- 288.9/400.7 MB 11.8 MB/s eta 0:00:10\n",
      "     -------------------------- ---------- 291.5/400.7 MB 11.8 MB/s eta 0:00:10\n",
      "     --------------------------- --------- 294.4/400.7 MB 11.8 MB/s eta 0:00:09\n",
      "     --------------------------- --------- 296.7/400.7 MB 11.8 MB/s eta 0:00:09\n",
      "     --------------------------- --------- 299.4/400.7 MB 11.8 MB/s eta 0:00:09\n",
      "     --------------------------- --------- 302.0/400.7 MB 11.8 MB/s eta 0:00:09\n",
      "     ---------------------------- -------- 304.3/400.7 MB 11.8 MB/s eta 0:00:09\n",
      "     ---------------------------- -------- 307.0/400.7 MB 11.8 MB/s eta 0:00:08\n",
      "     ---------------------------- -------- 309.6/400.7 MB 11.8 MB/s eta 0:00:08\n",
      "     ---------------------------- -------- 312.2/400.7 MB 11.9 MB/s eta 0:00:08\n",
      "     ----------------------------- ------- 314.8/400.7 MB 11.9 MB/s eta 0:00:08\n",
      "     ----------------------------- ------- 317.7/400.7 MB 11.9 MB/s eta 0:00:07\n",
      "     ----------------------------- ------- 320.3/400.7 MB 11.9 MB/s eta 0:00:07\n",
      "     ----------------------------- ------- 323.0/400.7 MB 11.9 MB/s eta 0:00:07\n",
      "     ------------------------------ ------ 325.6/400.7 MB 11.9 MB/s eta 0:00:07\n",
      "     ------------------------------ ------ 328.2/400.7 MB 11.9 MB/s eta 0:00:07\n",
      "     ------------------------------ ------ 330.8/400.7 MB 11.9 MB/s eta 0:00:06\n",
      "     ------------------------------ ------ 333.4/400.7 MB 11.9 MB/s eta 0:00:06\n",
      "     ------------------------------- ----- 336.1/400.7 MB 11.9 MB/s eta 0:00:06\n",
      "     ------------------------------- ----- 338.7/400.7 MB 11.9 MB/s eta 0:00:06\n",
      "     ------------------------------- ----- 341.3/400.7 MB 11.9 MB/s eta 0:00:05\n",
      "     ------------------------------- ----- 343.9/400.7 MB 11.9 MB/s eta 0:00:05\n",
      "     -------------------------------- ---- 346.6/400.7 MB 11.9 MB/s eta 0:00:05\n",
      "     -------------------------------- ---- 349.2/400.7 MB 11.9 MB/s eta 0:00:05\n",
      "     -------------------------------- ---- 351.8/400.7 MB 11.9 MB/s eta 0:00:05\n",
      "     -------------------------------- ---- 354.4/400.7 MB 11.9 MB/s eta 0:00:04\n",
      "     -------------------------------- ---- 357.0/400.7 MB 11.9 MB/s eta 0:00:04\n",
      "     --------------------------------- --- 359.7/400.7 MB 11.9 MB/s eta 0:00:04\n",
      "     --------------------------------- --- 362.3/400.7 MB 11.9 MB/s eta 0:00:04\n",
      "     --------------------------------- --- 364.9/400.7 MB 11.9 MB/s eta 0:00:03\n",
      "     --------------------------------- --- 367.5/400.7 MB 11.9 MB/s eta 0:00:03\n",
      "     ---------------------------------- -- 370.1/400.7 MB 11.9 MB/s eta 0:00:03\n",
      "     ---------------------------------- -- 372.8/400.7 MB 11.9 MB/s eta 0:00:03\n",
      "     ---------------------------------- -- 375.4/400.7 MB 11.9 MB/s eta 0:00:03\n",
      "     ---------------------------------- -- 378.0/400.7 MB 12.0 MB/s eta 0:00:02\n",
      "     ----------------------------------- - 380.9/400.7 MB 12.0 MB/s eta 0:00:02\n",
      "     ----------------------------------- - 383.5/400.7 MB 12.0 MB/s eta 0:00:02\n",
      "     ----------------------------------- - 385.9/400.7 MB 12.0 MB/s eta 0:00:02\n",
      "     ----------------------------------- - 388.5/400.7 MB 12.0 MB/s eta 0:00:02\n",
      "     ------------------------------------  391.1/400.7 MB 12.0 MB/s eta 0:00:01\n",
      "     ------------------------------------  393.7/400.7 MB 11.9 MB/s eta 0:00:01\n",
      "     ------------------------------------  396.1/400.7 MB 12.0 MB/s eta 0:00:01\n",
      "     ------------------------------------  398.7/400.7 MB 12.0 MB/s eta 0:00:01\n",
      "     ------------------------------------  400.6/400.7 MB 12.0 MB/s eta 0:00:01\n",
      "     ------------------------------------  400.6/400.7 MB 12.0 MB/s eta 0:00:01\n",
      "     ------------------------------------- 400.7/400.7 MB 11.7 MB/s eta 0:00:00\n",
      "\u001b[38;5;2m✔ Download and installation successful\u001b[0m\n",
      "You can now load the package via spacy.load('en_core_web_lg')\n"
     ]
    }
   ],
   "source": [
    "!python -m spacy download en_core_web_lg"
   ]
  },
  {
   "cell_type": "code",
   "execution_count": 56,
   "metadata": {},
   "outputs": [
    {
     "name": "stdout",
     "output_type": "stream",
     "text": [
      "['tok2vec', 'tagger', 'parser', 'attribute_ruler', 'lemmatizer', 'ner']\n"
     ]
    },
    {
     "data": {
      "text/html": [
       "<span class=\"tex2jax_ignore\"><div class=\"entities\" style=\"line-height: 2.5; direction: ltr\">\n",
       "<mark class=\"entity\" style=\"background: #feca74; padding: 0.45em 0.6em; margin: 0 0.25em; line-height: 1; border-radius: 0.35em;\">\n",
       "    India\n",
       "    <span style=\"font-size: 0.8em; font-weight: bold; line-height: 1; border-radius: 0.35em; vertical-align: middle; margin-left: 0.5rem\">GPE</span>\n",
       "</mark>\n",
       " beat \n",
       "<mark class=\"entity\" style=\"background: #feca74; padding: 0.45em 0.6em; margin: 0 0.25em; line-height: 1; border-radius: 0.35em;\">\n",
       "    Bangladesh\n",
       "    <span style=\"font-size: 0.8em; font-weight: bold; line-height: 1; border-radius: 0.35em; vertical-align: middle; margin-left: 0.5rem\">GPE</span>\n",
       "</mark>\n",
       "</div></span>"
      ],
      "text/plain": [
       "<IPython.core.display.HTML object>"
      ]
     },
     "metadata": {},
     "output_type": "display_data"
    }
   ],
   "source": [
    "import spacy\n",
    "\n",
    "nlp = spacy.load(\"en_core_web_lg\")\n",
    "doc = nlp(\"India beat Bangladesh\")\n",
    "doc.ents\n",
    "print(nlp.pipe_names)\n",
    "\n",
    "from spacy import displacy\n",
    "displacy.render(doc, style=\"ent\", jupyter=True)"
   ]
  },
  {
   "cell_type": "code",
   "execution_count": 57,
   "metadata": {},
   "outputs": [
    {
     "name": "stdout",
     "output_type": "stream",
     "text": [
      "[{'content': \"Abhishek Jha\\nApplication Development Associate - Accenture\\n\\nBengaluru, Karnataka - Email me on Indeed: indeed.com/r/Abhishek-Jha/10e7a8cb732bc43a\\n\\nâ€¢ To work for an organization which provides me the opportunity to improve my skills\\nand knowledge for my individual and company's growth in best possible ways.\\n\\nWilling to relocate to: Bangalore, Karnataka\\n\\nWORK EXPERIENCE\\n\\nApplication Development Associate\\n\\nAccenture -\\n\\nNovember 2017 to Present\\n\\nRole: Currently working on Chat-bot. Developing Backend Oracle PeopleSoft Queries\\nfor the Bot which will be triggered based on given input. Also, Training the bot for different possible\\nutterances (Both positive and negative), which will be given as\\ninput by the user.\\n\\nEDUCATION\\n\\nB.E in Information science and engineering\\n\\nB.v.b college of engineering and technology -  Hubli, Karnataka\\n\\nAugust 2013 to June 2017\\n\\n12th in Mathematics\\n\\nWoodbine modern school\\n\\nApril 2011 to March 2013\\n\\n10th\\n\\nKendriya Vidyalaya\\n\\nApril 2001 to March 2011\\n\\nSKILLS\\n\\nC (Less than 1 year), Database (Less than 1 year), Database Management (Less than 1 year),\\nDatabase Management System (Less than 1 year), Java (Less than 1 year)\\n\\nADDITIONAL INFORMATION\\n\\nTechnical Skills\\n\\nhttps://www.indeed.com/r/Abhishek-Jha/10e7a8cb732bc43a?isid=rex-download&ikw=download-top&co=IN\\n\\n\\nâ€¢ Programming language: C, C++, Java\\nâ€¢ Oracle PeopleSoft\\nâ€¢ Internet Of Things\\nâ€¢ Machine Learning\\nâ€¢ Database Management System\\nâ€¢ Computer Networks\\nâ€¢ Operating System worked on: Linux, Windows, Mac\\n\\nNon - Technical Skills\\n\\nâ€¢ Honest and Hard-Working\\nâ€¢ Tolerant and Flexible to Different Situations\\nâ€¢ Polite and Calm\\nâ€¢ Team-Player\", 'annotation': [{'label': ['Skills'], 'points': [{'start': 1295, 'end': 1621, 'text': '\\nâ€¢ Programming language: C, C++, Java\\nâ€¢ Oracle PeopleSoft\\nâ€¢ Internet Of Things\\nâ€¢ Machine Learning\\nâ€¢ Database Management System\\nâ€¢ Computer Networks\\nâ€¢ Operating System worked on: Linux, Windows, Mac\\n\\nNon - Technical Skills\\n\\nâ€¢ Honest and Hard-Working\\nâ€¢ Tolerant and Flexible to Different Situations\\nâ€¢ Polite and Calm\\nâ€¢ Team-Player'}]}, {'label': ['Skills'], 'points': [{'start': 993, 'end': 1153, 'text': 'C (Less than 1 year), Database (Less than 1 year), Database Management (Less than 1 year),\\nDatabase Management System (Less than 1 year), Java (Less than 1 year)'}]}, {'label': ['College Name'], 'points': [{'start': 939, 'end': 956, 'text': 'Kendriya Vidyalaya'}]}, {'label': ['College Name'], 'points': [{'start': 883, 'end': 904, 'text': 'Woodbine modern school'}]}, {'label': ['Graduation Year'], 'points': [{'start': 856, 'end': 860, 'text': '2017\\n'}]}, {'label': ['College Name'], 'points': [{'start': 771, 'end': 813, 'text': 'B.v.b college of engineering and technology'}]}, {'label': ['Designation'], 'points': [{'start': 727, 'end': 769, 'text': 'B.E in Information science and engineering\\n'}]}, {'label': ['Companies worked at'], 'points': [{'start': 407, 'end': 415, 'text': 'Accenture'}]}, {'label': ['Designation'], 'points': [{'start': 372, 'end': 404, 'text': 'Application Development Associate'}]}, {'label': ['Email Address'], 'points': [{'start': 95, 'end': 145, 'text': 'Indeed: indeed.com/r/Abhishek-Jha/10e7a8cb732bc43a\\n'}]}, {'label': ['Location'], 'points': [{'start': 60, 'end': 68, 'text': 'Bengaluru'}]}, {'label': ['Companies worked at'], 'points': [{'start': 49, 'end': 57, 'text': 'Accenture'}]}, {'label': ['Designation'], 'points': [{'start': 13, 'end': 45, 'text': 'Application Development Associate'}]}, {'label': ['Name'], 'points': [{'start': 0, 'end': 11, 'text': 'Abhishek Jha'}]}], 'extras': None}]\n"
     ]
    }
   ],
   "source": [
    "import json\n",
    "\n",
    "with open('dataset/sample.json', 'r') as f:\n",
    "    data = json.load(f)\n",
    "print(data)"
   ]
  },
  {
   "cell_type": "code",
   "execution_count": 58,
   "metadata": {},
   "outputs": [
    {
     "name": "stdout",
     "output_type": "stream",
     "text": [
      "[{'text': \"Abhishek Jha\\nApplication Development Associate - Accenture\\n\\nBengaluru, Karnataka - Email me on Indeed: indeed.com/r/Abhishek-Jha/10e7a8cb732bc43a\\n\\nâ€¢ To work for an organization which provides me the opportunity to improve my skills\\nand knowledge for my individual and company's growth in best possible ways.\\n\\nWilling to relocate to: Bangalore, Karnataka\\n\\nWORK EXPERIENCE\\n\\nApplication Development Associate\\n\\nAccenture -\\n\\nNovember 2017 to Present\\n\\nRole: Currently working on Chat-bot. Developing Backend Oracle PeopleSoft Queries\\nfor the Bot which will be triggered based on given input. Also, Training the bot for different possible\\nutterances (Both positive and negative), which will be given as\\ninput by the user.\\n\\nEDUCATION\\n\\nB.E in Information science and engineering\\n\\nB.v.b college of engineering and technology -  Hubli, Karnataka\\n\\nAugust 2013 to June 2017\\n\\n12th in Mathematics\\n\\nWoodbine modern school\\n\\nApril 2011 to March 2013\\n\\n10th\\n\\nKendriya Vidyalaya\\n\\nApril 2001 to March 2011\\n\\nSKILLS\\n\\nC (Less than 1 year), Database (Less than 1 year), Database Management (Less than 1 year),\\nDatabase Management System (Less than 1 year), Java (Less than 1 year)\\n\\nADDITIONAL INFORMATION\\n\\nTechnical Skills\\n\\nhttps://www.indeed.com/r/Abhishek-Jha/10e7a8cb732bc43a?isid=rex-download&ikw=download-top&co=IN\\n\\n\\nâ€¢ Programming language: C, C++, Java\\nâ€¢ Oracle PeopleSoft\\nâ€¢ Internet Of Things\\nâ€¢ Machine Learning\\nâ€¢ Database Management System\\nâ€¢ Computer Networks\\nâ€¢ Operating System worked on: Linux, Windows, Mac\\n\\nNon - Technical Skills\\n\\nâ€¢ Honest and Hard-Working\\nâ€¢ Tolerant and Flexible to Different Situations\\nâ€¢ Polite and Calm\\nâ€¢ Team-Player\", 'entities': [(1295, 1621, 'SKILLS'), (993, 1153, 'SKILLS'), (939, 956, 'COLLEGE NAME'), (883, 904, 'COLLEGE NAME'), (856, 860, 'GRADUATION YEAR'), (771, 813, 'COLLEGE NAME'), (727, 769, 'DESIGNATION'), (407, 415, 'COMPANIES WORKED AT'), (372, 404, 'DESIGNATION'), (95, 145, 'EMAIL ADDRESS'), (60, 68, 'LOCATION'), (49, 57, 'COMPANIES WORKED AT'), (13, 45, 'DESIGNATION'), (0, 11, 'NAME')]}]\n"
     ]
    }
   ],
   "source": [
    "training_data = []\n",
    "for example in data:\n",
    "    temp_dict = {}\n",
    "    temp_dict['text'] = example['content']\n",
    "    temp_dict['entities'] = []\n",
    "    for annotation in example['annotation']:\n",
    "        for point in annotation['points']:  \n",
    "            start = point['start']\n",
    "            end = point['end']\n",
    "            tag = annotation['label']\n",
    "            #print(\"\".join(tag).upper())\n",
    "            label=\"\".join(tag).upper()\n",
    "            temp_dict['entities'].append((start, end, label))\n",
    "    training_data.append(temp_dict)\n",
    "\n",
    "print(training_data)"
   ]
  },
  {
   "cell_type": "code",
   "execution_count": 59,
   "metadata": {},
   "outputs": [
    {
     "name": "stderr",
     "output_type": "stream",
     "text": [
      "100%|██████████| 1/1 [00:00<00:00, 166.65it/s]\n"
     ]
    }
   ],
   "source": [
    " from spacy.tokens import DocBin\n",
    " from tqdm import tqdm\n",
    "\n",
    " nlp = spacy.blank(\"en\")\n",
    " doc_bin = DocBin()\n",
    "\n",
    " from spacy.util import filter_spans\n",
    "\n",
    " for training_example in tqdm(training_data):\n",
    "     text = training_example['text']\n",
    "     labels = training_example['entities']\n",
    "     doc = nlp.make_doc(text)\n",
    "     ents = []\n",
    "     for start, end, label in labels:\n",
    "         span = doc.char_span(start, end, label=label, alignment_mode=\"contract\")\n",
    "         if span is None:\n",
    "             #print(\"Skipping entity\")\n",
    "             pass\n",
    "         else:\n",
    "             ents.append(span)\n",
    "     filtered_ents = filter_spans(ents)\n",
    "     doc.ents = filtered_ents\n",
    "     doc_bin.add(doc)\n",
    "\n",
    " doc_bin.to_disk(\"train.spacy\")\n"
   ]
  },
  {
   "cell_type": "code",
   "execution_count": 60,
   "metadata": {},
   "outputs": [
    {
     "name": "stdout",
     "output_type": "stream",
     "text": [
      "\u001b[38;5;2m✔ Auto-filled config with all values\u001b[0m\n",
      "\u001b[38;5;2m✔ Saved config\u001b[0m\n",
      "config.cfg\n",
      "You can now add your data and train your pipeline:\n",
      "python -m spacy train config.cfg --paths.train ./train.spacy --paths.dev ./dev.spacy\n"
     ]
    }
   ],
   "source": [
    "!python -m spacy init fill-config ./base_config.cfg ./config.cfg"
   ]
  },
  {
   "cell_type": "code",
   "execution_count": 61,
   "metadata": {},
   "outputs": [
    {
     "name": "stdout",
     "output_type": "stream",
     "text": [
      "\u001b[38;5;4mℹ Saving to output directory: .\u001b[0m\n",
      "\u001b[38;5;4mℹ Using CPU\u001b[0m\n",
      "\u001b[1m\n",
      "=========================== Initializing pipeline ===========================\u001b[0m\n",
      "\u001b[38;5;2m✔ Initialized pipeline\u001b[0m\n",
      "\u001b[1m\n",
      "============================= Training pipeline =============================\u001b[0m\n",
      "\u001b[38;5;4mℹ Pipeline: ['tok2vec', 'ner']\u001b[0m\n",
      "\u001b[38;5;4mℹ Initial learn rate: 0.001\u001b[0m\n",
      "E    #       LOSS TOK2VEC  LOSS NER  ENTS_F  ENTS_P  ENTS_R  SCORE \n",
      "---  ------  ------------  --------  ------  ------  ------  ------\n",
      "\u001b[38;5;3m⚠ Aborting and saving the final best model. Encountered exception:\n",
      "ValueError(\"[E024] Could not find an optimal move to supervise the parser.\n",
      "Usually, this means that the model can't be updated in a way that's valid and\n",
      "satisfies the correct annotations specified in the GoldParse. For example, are\n",
      "all labels added to the model? If you're training a named entity recognizer,\n",
      "also make sure that none of your annotated entity spans have leading or trailing\n",
      "whitespace or punctuation. You can also use the `debug data` command to validate\n",
      "your JSON-formatted training data. For details, run:\\npython -m spacy debug data\n",
      "--help\")\u001b[0m\n"
     ]
    },
    {
     "name": "stderr",
     "output_type": "stream",
     "text": [
      "Traceback (most recent call last):\n",
      "  File \"<frozen runpy>\", line 198, in _run_module_as_main\n",
      "  File \"<frozen runpy>\", line 88, in _run_code\n",
      "  File \"c:\\Rohit\\Python\\python-3.11.4-embed-amd64\\Python\\Lib\\site-packages\\spacy\\__main__.py\", line 4, in <module>\n",
      "    setup_cli()\n",
      "  File \"c:\\Rohit\\Python\\python-3.11.4-embed-amd64\\Python\\Lib\\site-packages\\spacy\\cli\\_util.py\", line 87, in setup_cli\n",
      "    command(prog_name=COMMAND)\n",
      "  File \"c:\\Rohit\\Python\\python-3.11.4-embed-amd64\\Python\\Lib\\site-packages\\click\\core.py\", line 1157, in __call__\n",
      "    return self.main(*args, **kwargs)\n",
      "           ^^^^^^^^^^^^^^^^^^^^^^^^^^\n",
      "  File \"c:\\Rohit\\Python\\python-3.11.4-embed-amd64\\Python\\Lib\\site-packages\\typer\\core.py\", line 728, in main\n",
      "    return _main(\n",
      "           ^^^^^^\n",
      "  File \"c:\\Rohit\\Python\\python-3.11.4-embed-amd64\\Python\\Lib\\site-packages\\typer\\core.py\", line 197, in _main\n",
      "    rv = self.invoke(ctx)\n",
      "         ^^^^^^^^^^^^^^^^\n",
      "  File \"c:\\Rohit\\Python\\python-3.11.4-embed-amd64\\Python\\Lib\\site-packages\\click\\core.py\", line 1688, in invoke\n",
      "    return _process_result(sub_ctx.command.invoke(sub_ctx))\n",
      "                           ^^^^^^^^^^^^^^^^^^^^^^^^^^^^^^^\n",
      "  File \"c:\\Rohit\\Python\\python-3.11.4-embed-amd64\\Python\\Lib\\site-packages\\click\\core.py\", line 1434, in invoke\n",
      "    return ctx.invoke(self.callback, **ctx.params)\n",
      "           ^^^^^^^^^^^^^^^^^^^^^^^^^^^^^^^^^^^^^^^\n",
      "  File \"c:\\Rohit\\Python\\python-3.11.4-embed-amd64\\Python\\Lib\\site-packages\\click\\core.py\", line 783, in invoke\n",
      "    return __callback(*args, **kwargs)\n",
      "           ^^^^^^^^^^^^^^^^^^^^^^^^^^^\n",
      "  File \"c:\\Rohit\\Python\\python-3.11.4-embed-amd64\\Python\\Lib\\site-packages\\typer\\main.py\", line 703, in wrapper\n",
      "    return callback(**use_params)\n",
      "           ^^^^^^^^^^^^^^^^^^^^^^\n",
      "  File \"c:\\Rohit\\Python\\python-3.11.4-embed-amd64\\Python\\Lib\\site-packages\\spacy\\cli\\train.py\", line 54, in train_cli\n",
      "    train(config_path, output_path, use_gpu=use_gpu, overrides=overrides)\n",
      "  File \"c:\\Rohit\\Python\\python-3.11.4-embed-amd64\\Python\\Lib\\site-packages\\spacy\\cli\\train.py\", line 84, in train\n",
      "    train_nlp(nlp, output_path, use_gpu=use_gpu, stdout=sys.stdout, stderr=sys.stderr)\n",
      "  File \"c:\\Rohit\\Python\\python-3.11.4-embed-amd64\\Python\\Lib\\site-packages\\spacy\\training\\loop.py\", line 135, in train\n",
      "    raise e\n",
      "  File \"c:\\Rohit\\Python\\python-3.11.4-embed-amd64\\Python\\Lib\\site-packages\\spacy\\training\\loop.py\", line 118, in train\n",
      "    for batch, info, is_best_checkpoint in training_step_iterator:\n",
      "  File \"c:\\Rohit\\Python\\python-3.11.4-embed-amd64\\Python\\Lib\\site-packages\\spacy\\training\\loop.py\", line 220, in train_while_improving\n",
      "    nlp.update(\n",
      "  File \"c:\\Rohit\\Python\\python-3.11.4-embed-amd64\\Python\\Lib\\site-packages\\spacy\\language.py\", line 1196, in update\n",
      "    proc.update(examples, sgd=None, losses=losses, **component_cfg[name])  # type: ignore\n",
      "    ^^^^^^^^^^^^^^^^^^^^^^^^^^^^^^^^^^^^^^^^^^^^^^^^^^^^^^^^^^^^^^^^^^^^^\n",
      "  File \"spacy\\pipeline\\transition_parser.pyx\", line 411, in spacy.pipeline.transition_parser.Parser.update\n",
      "  File \"spacy\\pipeline\\transition_parser.pyx\", line 676, in spacy.pipeline.transition_parser.Parser._init_gold_batch\n",
      "  File \"spacy\\pipeline\\_parser_internals\\transition_system.pyx\", line 133, in spacy.pipeline._parser_internals.transition_system.TransitionSystem.get_oracle_sequence_from_state\n",
      "ValueError: [E024] Could not find an optimal move to supervise the parser. Usually, this means that the model can't be updated in a way that's valid and satisfies the correct annotations specified in the GoldParse. For example, are all labels added to the model? If you're training a named entity recognizer, also make sure that none of your annotated entity spans have leading or trailing whitespace or punctuation. You can also use the `debug data` command to validate your JSON-formatted training data. For details, run:\n",
      "python -m spacy debug data --help\n"
     ]
    }
   ],
   "source": [
    "!python -m spacy train config.cfg --output ./ --paths.train ./train.spacy --paths.dev ./train.spacy \n",
    "\n"
   ]
  },
  {
   "cell_type": "code",
   "execution_count": 62,
   "metadata": {},
   "outputs": [
    {
     "name": "stdout",
     "output_type": "stream",
     "text": [
      "                                                                               \n",
      " Usage: python -m spacy debug data [OPTIONS] CONFIG_PATH                       \n",
      "                                                                               \n",
      " Analyze, debug and validate your training and development data. Outputs       \n",
      " useful stats, and can help you find problems like invalid entity annotations, \n",
      " cyclic dependencies, low data labels and more.                                \n",
      " DOCS: https://spacy.io/api/cli#debug-data                                     \n",
      "                                                                               \n",
      "┌─ Arguments ─────────────────────────────────────────────────────────────────┐\n",
      "│ *    config_path      PATH  Path to config file [default: None] [required]  │\n",
      "└─────────────────────────────────────────────────────────────────────────────┘\n",
      "┌─ Options ───────────────────────────────────────────────────────────────────┐\n",
      "│ --code-path,--code  -c       PATH  Path to Python file with additional code │\n",
      "│                                    (registered functions) to be imported    │\n",
      "│                                    [default: None]                          │\n",
      "│ --ignore-warnings   -IW            Ignore warnings, only show stats and     │\n",
      "│                                    errors                                   │\n",
      "│ --verbose           -V             Print additional information and         │\n",
      "│                                    explanations                             │\n",
      "│ --no-format         -NF            Don't pretty-print the results           │\n",
      "│ --help                             Show this message and exit.              │\n",
      "└─────────────────────────────────────────────────────────────────────────────┘\n",
      "\n"
     ]
    }
   ],
   "source": [
    "!python -m spacy debug data --help"
   ]
  },
  {
   "cell_type": "code",
   "execution_count": 63,
   "metadata": {},
   "outputs": [
    {
     "ename": "OSError",
     "evalue": "[E050] Can't find model 'model-best'. It doesn't seem to be a Python package or a valid path to a data directory.",
     "output_type": "error",
     "traceback": [
      "\u001b[1;31m---------------------------------------------------------------------------\u001b[0m",
      "\u001b[1;31mOSError\u001b[0m                                   Traceback (most recent call last)",
      "Cell \u001b[1;32mIn[63], line 1\u001b[0m\n\u001b[1;32m----> 1\u001b[0m nlp_ner \u001b[38;5;241m=\u001b[39m \u001b[43mspacy\u001b[49m\u001b[38;5;241;43m.\u001b[39;49m\u001b[43mload\u001b[49m\u001b[43m(\u001b[49m\u001b[38;5;124;43m\"\u001b[39;49m\u001b[38;5;124;43mmodel-best\u001b[39;49m\u001b[38;5;124;43m\"\u001b[39;49m\u001b[43m)\u001b[49m\n\u001b[0;32m      2\u001b[0m doc \u001b[38;5;241m=\u001b[39m nlp_ner(\u001b[38;5;124m\"\u001b[39m\u001b[38;5;124mManisha Bharti\u001b[39m\u001b[38;5;130;01m\\n\u001b[39;00m\u001b[38;5;124mSoftware Automation Engineer\u001b[39m\u001b[38;5;130;01m\\n\u001b[39;00m\u001b[38;5;130;01m\\n\u001b[39;00m\u001b[38;5;124mPune, Maharashtra - Email me on Indeed: indeed.com/r/Manisha-Bharti/3573e36088ddc073\u001b[39m\u001b[38;5;130;01m\\n\u001b[39;00m\u001b[38;5;130;01m\\n\u001b[39;00m\u001b[38;5;124m• 3.5 years of professional IT experience in Banking and Finance domain and currently working\u001b[39m\u001b[38;5;130;01m\\n\u001b[39;00m\u001b[38;5;124mas Software\u001b[39m\u001b[38;5;124m\"\u001b[39m)\n\u001b[0;32m      5\u001b[0m spacy\u001b[38;5;241m.\u001b[39mdisplacy\u001b[38;5;241m.\u001b[39mrender(doc, style\u001b[38;5;241m=\u001b[39m\u001b[38;5;124m\"\u001b[39m\u001b[38;5;124ment\u001b[39m\u001b[38;5;124m\"\u001b[39m, jupyter\u001b[38;5;241m=\u001b[39m\u001b[38;5;28;01mTrue\u001b[39;00m)\n",
      "File \u001b[1;32mc:\\Rohit\\Python\\python-3.11.4-embed-amd64\\Python\\Lib\\site-packages\\spacy\\__init__.py:51\u001b[0m, in \u001b[0;36mload\u001b[1;34m(name, vocab, disable, enable, exclude, config)\u001b[0m\n\u001b[0;32m     27\u001b[0m \u001b[38;5;28;01mdef\u001b[39;00m \u001b[38;5;21mload\u001b[39m(\n\u001b[0;32m     28\u001b[0m     name: Union[\u001b[38;5;28mstr\u001b[39m, Path],\n\u001b[0;32m     29\u001b[0m     \u001b[38;5;241m*\u001b[39m,\n\u001b[1;32m   (...)\u001b[0m\n\u001b[0;32m     34\u001b[0m     config: Union[Dict[\u001b[38;5;28mstr\u001b[39m, Any], Config] \u001b[38;5;241m=\u001b[39m util\u001b[38;5;241m.\u001b[39mSimpleFrozenDict(),\n\u001b[0;32m     35\u001b[0m ) \u001b[38;5;241m-\u001b[39m\u001b[38;5;241m>\u001b[39m Language:\n\u001b[0;32m     36\u001b[0m \u001b[38;5;250m    \u001b[39m\u001b[38;5;124;03m\"\"\"Load a spaCy model from an installed package or a local path.\u001b[39;00m\n\u001b[0;32m     37\u001b[0m \n\u001b[0;32m     38\u001b[0m \u001b[38;5;124;03m    name (str): Package name or model path.\u001b[39;00m\n\u001b[1;32m   (...)\u001b[0m\n\u001b[0;32m     49\u001b[0m \u001b[38;5;124;03m    RETURNS (Language): The loaded nlp object.\u001b[39;00m\n\u001b[0;32m     50\u001b[0m \u001b[38;5;124;03m    \"\"\"\u001b[39;00m\n\u001b[1;32m---> 51\u001b[0m     \u001b[38;5;28;01mreturn\u001b[39;00m \u001b[43mutil\u001b[49m\u001b[38;5;241;43m.\u001b[39;49m\u001b[43mload_model\u001b[49m\u001b[43m(\u001b[49m\n\u001b[0;32m     52\u001b[0m \u001b[43m        \u001b[49m\u001b[43mname\u001b[49m\u001b[43m,\u001b[49m\n\u001b[0;32m     53\u001b[0m \u001b[43m        \u001b[49m\u001b[43mvocab\u001b[49m\u001b[38;5;241;43m=\u001b[39;49m\u001b[43mvocab\u001b[49m\u001b[43m,\u001b[49m\n\u001b[0;32m     54\u001b[0m \u001b[43m        \u001b[49m\u001b[43mdisable\u001b[49m\u001b[38;5;241;43m=\u001b[39;49m\u001b[43mdisable\u001b[49m\u001b[43m,\u001b[49m\n\u001b[0;32m     55\u001b[0m \u001b[43m        \u001b[49m\u001b[43menable\u001b[49m\u001b[38;5;241;43m=\u001b[39;49m\u001b[43menable\u001b[49m\u001b[43m,\u001b[49m\n\u001b[0;32m     56\u001b[0m \u001b[43m        \u001b[49m\u001b[43mexclude\u001b[49m\u001b[38;5;241;43m=\u001b[39;49m\u001b[43mexclude\u001b[49m\u001b[43m,\u001b[49m\n\u001b[0;32m     57\u001b[0m \u001b[43m        \u001b[49m\u001b[43mconfig\u001b[49m\u001b[38;5;241;43m=\u001b[39;49m\u001b[43mconfig\u001b[49m\u001b[43m,\u001b[49m\n\u001b[0;32m     58\u001b[0m \u001b[43m    \u001b[49m\u001b[43m)\u001b[49m\n",
      "File \u001b[1;32mc:\\Rohit\\Python\\python-3.11.4-embed-amd64\\Python\\Lib\\site-packages\\spacy\\util.py:472\u001b[0m, in \u001b[0;36mload_model\u001b[1;34m(name, vocab, disable, enable, exclude, config)\u001b[0m\n\u001b[0;32m    470\u001b[0m \u001b[38;5;28;01mif\u001b[39;00m name \u001b[38;5;129;01min\u001b[39;00m OLD_MODEL_SHORTCUTS:\n\u001b[0;32m    471\u001b[0m     \u001b[38;5;28;01mraise\u001b[39;00m \u001b[38;5;167;01mIOError\u001b[39;00m(Errors\u001b[38;5;241m.\u001b[39mE941\u001b[38;5;241m.\u001b[39mformat(name\u001b[38;5;241m=\u001b[39mname, full\u001b[38;5;241m=\u001b[39mOLD_MODEL_SHORTCUTS[name]))  \u001b[38;5;66;03m# type: ignore[index]\u001b[39;00m\n\u001b[1;32m--> 472\u001b[0m \u001b[38;5;28;01mraise\u001b[39;00m \u001b[38;5;167;01mIOError\u001b[39;00m(Errors\u001b[38;5;241m.\u001b[39mE050\u001b[38;5;241m.\u001b[39mformat(name\u001b[38;5;241m=\u001b[39mname))\n",
      "\u001b[1;31mOSError\u001b[0m: [E050] Can't find model 'model-best'. It doesn't seem to be a Python package or a valid path to a data directory."
     ]
    }
   ],
   "source": [
    "nlp_ner = spacy.load(\"model-best\")\n",
    "doc = nlp_ner(\"Manisha Bharti\\nSoftware Automation Engineer\\n\\nPune, Maharashtra - Email me on Indeed: indeed.com/r/Manisha-Bharti/3573e36088ddc073\\n\\n• 3.5 years of professional IT experience in Banking and Finance domain and currently working\\nas Software\")\n",
    "\n",
    "\n",
    "spacy.displacy.render(doc, style=\"ent\", jupyter=True)"
   ]
  }
 ],
 "metadata": {
  "kernelspec": {
   "display_name": "Python 3",
   "language": "python",
   "name": "python3"
  },
  "language_info": {
   "codemirror_mode": {
    "name": "ipython",
    "version": 3
   },
   "file_extension": ".py",
   "mimetype": "text/x-python",
   "name": "python",
   "nbconvert_exporter": "python",
   "pygments_lexer": "ipython3",
   "version": "3.11.4"
  }
 },
 "nbformat": 4,
 "nbformat_minor": 2
}
